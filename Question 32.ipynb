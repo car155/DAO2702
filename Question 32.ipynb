{
 "cells": [
  {
   "cell_type": "code",
   "execution_count": 1,
   "metadata": {},
   "outputs": [
    {
     "name": "stdout",
     "output_type": "stream",
     "text": [
      "Given a list representing the prediction of stock prices in a number of days, \n",
      "design a function to find the maximum profit. For example, if the input list \n",
      "is [7, 1, 5, 3, 6, 4] then the profit is 4+3=7, because you can buy the stock \n",
      "on day 2 (price=1) and sell it on day 3 (price=5) so the profit is 4, then you \n",
      "can buy on day 4 (price=3) and sell it on day 5 (price=6) so the profit is 3. \n",
      "Note that you can make the buy and sell transcations in the same day, but you \n",
      "cannot buy the stock again before selling it, so if the given input list is \n",
      "[1, 2, 3, 4, 5] then the output is 5-1=4, or (2-1)+(3-2)+(4-3)+(5-4)=4.\n"
     ]
    },
    {
     "data": {
      "text/html": [
       "<div>\n",
       "<style scoped>\n",
       "    .dataframe tbody tr th:only-of-type {\n",
       "        vertical-align: middle;\n",
       "    }\n",
       "\n",
       "    .dataframe tbody tr th {\n",
       "        vertical-align: top;\n",
       "    }\n",
       "\n",
       "    .dataframe thead th {\n",
       "        text-align: right;\n",
       "    }\n",
       "</style>\n",
       "<table border=\"1\" class=\"dataframe\">\n",
       "  <thead>\n",
       "    <tr style=\"text-align: right;\">\n",
       "      <th></th>\n",
       "      <th>Input1: list</th>\n",
       "      <th>Output: int</th>\n",
       "    </tr>\n",
       "  </thead>\n",
       "  <tbody>\n",
       "    <tr>\n",
       "      <th>Test 1:</th>\n",
       "      <td>[7, 1, 5, 3, 6, 4]</td>\n",
       "      <td>7</td>\n",
       "    </tr>\n",
       "    <tr>\n",
       "      <th>Test 2:</th>\n",
       "      <td>[1, 2, 3, 4, 5]</td>\n",
       "      <td>4</td>\n",
       "    </tr>\n",
       "    <tr>\n",
       "      <th>Test 3:</th>\n",
       "      <td>[7, 6, 4, 3, 1]</td>\n",
       "      <td>0</td>\n",
       "    </tr>\n",
       "  </tbody>\n",
       "</table>\n",
       "</div>"
      ],
      "text/plain": [
       "               Input1: list Output: int\n",
       "Test 1:  [7, 1, 5, 3, 6, 4]           7\n",
       "Test 2:     [1, 2, 3, 4, 5]           4\n",
       "Test 3:     [7, 6, 4, 3, 1]           0"
      ]
     },
     "metadata": {},
     "output_type": "display_data"
    },
    {
     "data": {
      "text/plain": [
       "\n",
       "\u001b[1mTrading Decisions: Hard\u001b[0;0m "
      ]
     },
     "execution_count": 1,
     "metadata": {},
     "output_type": "execute_result"
    }
   ],
   "source": [
    "from exbook import book as eb\n",
    "\n",
    "eb[31]"
   ]
  },
  {
   "cell_type": "code",
   "execution_count": 10,
   "metadata": {},
   "outputs": [
    {
     "name": "stdout",
     "output_type": "stream",
     "text": [
      "You passed 5 of the 5 tests. \n",
      "The solution is correct\n"
     ]
    }
   ],
   "source": [
    "def trading_decisions(prediction):\n",
    "    profit = 0\n",
    "    i = 0\n",
    "    while i < len(prediction) - 1:\n",
    "        if prediction[i] <= prediction[i + 1]:\n",
    "            profit += (prediction[i + 1] - prediction[i])\n",
    "        i += 1\n",
    "    return profit\n",
    "\n",
    "eb[31].check(trading_decisions)"
   ]
  }
 ],
 "metadata": {
  "kernelspec": {
   "display_name": "Python 3",
   "language": "python",
   "name": "python3"
  },
  "language_info": {
   "codemirror_mode": {
    "name": "ipython",
    "version": 3
   },
   "file_extension": ".py",
   "mimetype": "text/x-python",
   "name": "python",
   "nbconvert_exporter": "python",
   "pygments_lexer": "ipython3",
   "version": "3.8.5"
  }
 },
 "nbformat": 4,
 "nbformat_minor": 4
}
