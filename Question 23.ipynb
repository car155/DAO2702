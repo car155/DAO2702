{
 "cells": [
  {
   "cell_type": "code",
   "execution_count": 1,
   "metadata": {},
   "outputs": [
    {
     "name": "stdout",
     "output_type": "stream",
     "text": [
      "Write a function to sort a list from the smallest value to the largest value. \n",
      "For example, if the input is [3.5, 2.1, 2.1, 3.4, 2.8, 1.2], the output is \n",
      "[1.2, 2.1, 2.1, 2.8, 3.4, 3.5]. As a practice, do not use the build-in \n",
      "function sort.\n"
     ]
    },
    {
     "data": {
      "text/html": [
       "<div>\n",
       "<style scoped>\n",
       "    .dataframe tbody tr th:only-of-type {\n",
       "        vertical-align: middle;\n",
       "    }\n",
       "\n",
       "    .dataframe tbody tr th {\n",
       "        vertical-align: top;\n",
       "    }\n",
       "\n",
       "    .dataframe thead th {\n",
       "        text-align: right;\n",
       "    }\n",
       "</style>\n",
       "<table border=\"1\" class=\"dataframe\">\n",
       "  <thead>\n",
       "    <tr style=\"text-align: right;\">\n",
       "      <th></th>\n",
       "      <th>Input1: list</th>\n",
       "      <th>Output: list</th>\n",
       "    </tr>\n",
       "  </thead>\n",
       "  <tbody>\n",
       "    <tr>\n",
       "      <th>Test 1:</th>\n",
       "      <td>[3.5, 2.1, 2.2, 1.6, 0.8, 3.9, 2.5]</td>\n",
       "      <td>[0.8, 1.6, 2.1, 2.2, 2.5, 3.5, 3.9]</td>\n",
       "    </tr>\n",
       "  </tbody>\n",
       "</table>\n",
       "</div>"
      ],
      "text/plain": [
       "                                Input1: list  \\\n",
       "Test 1:  [3.5, 2.1, 2.2, 1.6, 0.8, 3.9, 2.5]   \n",
       "\n",
       "                                Output: list  \n",
       "Test 1:  [0.8, 1.6, 2.1, 2.2, 2.5, 3.5, 3.9]  "
      ]
     },
     "metadata": {},
     "output_type": "display_data"
    },
    {
     "data": {
      "text/plain": [
       "\n",
       "\u001b[1mSort: Hard\u001b[0;0m "
      ]
     },
     "execution_count": 1,
     "metadata": {},
     "output_type": "execute_result"
    }
   ],
   "source": [
    "from exbook import book as eb\n",
    "\n",
    "eb[22]"
   ]
  },
  {
   "cell_type": "code",
   "execution_count": 3,
   "metadata": {},
   "outputs": [
    {
     "name": "stdout",
     "output_type": "stream",
     "text": [
      "You passed 3 of the 3 tests. \n",
      "The solution is correct\n"
     ]
    }
   ],
   "source": [
    "def sort(ls):\n",
    "    n = len(ls)\n",
    "    sorted_ls = ls.copy()\n",
    "    while n > 1:\n",
    "        for i in range(0, n-1):\n",
    "            if (sorted_ls[i] > sorted_ls[i + 1]):\n",
    "                temp = sorted_ls[i]\n",
    "                sorted_ls[i] = sorted_ls[i + 1]\n",
    "                sorted_ls[i + 1] = temp\n",
    "        n-=1\n",
    "    return sorted_ls\n",
    "\n",
    "eb[22].check(sort)"
   ]
  }
 ],
 "metadata": {
  "kernelspec": {
   "display_name": "Python 3",
   "language": "python",
   "name": "python3"
  },
  "language_info": {
   "codemirror_mode": {
    "name": "ipython",
    "version": 3
   },
   "file_extension": ".py",
   "mimetype": "text/x-python",
   "name": "python",
   "nbconvert_exporter": "python",
   "pygments_lexer": "ipython3",
   "version": "3.8.5"
  }
 },
 "nbformat": 4,
 "nbformat_minor": 4
}
