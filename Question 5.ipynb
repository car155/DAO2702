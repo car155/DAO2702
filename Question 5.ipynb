{
 "cells": [
  {
   "cell_type": "markdown",
   "metadata": {},
   "source": [
    "# Question 5"
   ]
  },
  {
   "cell_type": "code",
   "execution_count": 1,
   "metadata": {},
   "outputs": [
    {
     "name": "stdout",
     "output_type": "stream",
     "text": [
      "Given a positive integer n, write a function to return a list of prime \n",
      "numbers that are no larger than n. For example, if n=20, then the returned \n",
      "list is [2, 3, 5, 7, 11, 13, 17, 19].\n"
     ]
    },
    {
     "data": {
      "text/html": [
       "<div>\n",
       "<style scoped>\n",
       "    .dataframe tbody tr th:only-of-type {\n",
       "        vertical-align: middle;\n",
       "    }\n",
       "\n",
       "    .dataframe tbody tr th {\n",
       "        vertical-align: top;\n",
       "    }\n",
       "\n",
       "    .dataframe thead th {\n",
       "        text-align: right;\n",
       "    }\n",
       "</style>\n",
       "<table border=\"1\" class=\"dataframe\">\n",
       "  <thead>\n",
       "    <tr style=\"text-align: right;\">\n",
       "      <th></th>\n",
       "      <th>Input1: int</th>\n",
       "      <th>Output: list</th>\n",
       "    </tr>\n",
       "  </thead>\n",
       "  <tbody>\n",
       "    <tr>\n",
       "      <th>Test 1:</th>\n",
       "      <td>1</td>\n",
       "      <td>[]</td>\n",
       "    </tr>\n",
       "    <tr>\n",
       "      <th>Test 2:</th>\n",
       "      <td>2</td>\n",
       "      <td>[2]</td>\n",
       "    </tr>\n",
       "    <tr>\n",
       "      <th>Test 3:</th>\n",
       "      <td>30</td>\n",
       "      <td>[2, 3, 5, 7, 11, 13, 17, 19, 23, 29]</td>\n",
       "    </tr>\n",
       "    <tr>\n",
       "      <th>Test 4:</th>\n",
       "      <td>40</td>\n",
       "      <td>[2, 3, 5, 7, 11, 13, 17, 19, 23, 29, 31, 37]</td>\n",
       "    </tr>\n",
       "  </tbody>\n",
       "</table>\n",
       "</div>"
      ],
      "text/plain": [
       "        Input1: int                                  Output: list\n",
       "Test 1:           1                                            []\n",
       "Test 2:           2                                           [2]\n",
       "Test 3:          30          [2, 3, 5, 7, 11, 13, 17, 19, 23, 29]\n",
       "Test 4:          40  [2, 3, 5, 7, 11, 13, 17, 19, 23, 29, 31, 37]"
      ]
     },
     "metadata": {},
     "output_type": "display_data"
    },
    {
     "data": {
      "text/plain": [
       "\n",
       "\u001b[1mPrime List: Medium\u001b[0;0m "
      ]
     },
     "execution_count": 1,
     "metadata": {},
     "output_type": "execute_result"
    }
   ],
   "source": [
    "from exbook import book as eb\n",
    "\n",
    "eb[4]"
   ]
  },
  {
   "cell_type": "code",
   "execution_count": 7,
   "metadata": {},
   "outputs": [
    {
     "name": "stdout",
     "output_type": "stream",
     "text": [
      "You passed 9 of the 9 tests. \n",
      "The solution is correct\n"
     ]
    }
   ],
   "source": [
    "def get_primes(n):\n",
    "    if n < 2:\n",
    "        return []\n",
    "    else:\n",
    "        primes = get_primes(n - 1)\n",
    "        for prime in primes:\n",
    "            if n % prime == 0:\n",
    "                return primes\n",
    "        primes.append(n)\n",
    "        return primes\n",
    "\n",
    "eb[4].check(get_primes)"
   ]
  }
 ],
 "metadata": {
  "kernelspec": {
   "display_name": "Python 3",
   "language": "python",
   "name": "python3"
  },
  "language_info": {
   "codemirror_mode": {
    "name": "ipython",
    "version": 3
   },
   "file_extension": ".py",
   "mimetype": "text/x-python",
   "name": "python",
   "nbconvert_exporter": "python",
   "pygments_lexer": "ipython3",
   "version": "3.8.5"
  }
 },
 "nbformat": 4,
 "nbformat_minor": 4
}
