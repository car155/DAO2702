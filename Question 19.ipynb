{
 "cells": [
  {
   "cell_type": "code",
   "execution_count": 2,
   "metadata": {},
   "outputs": [
    {
     "name": "stdout",
     "output_type": "stream",
     "text": [
      "Create a function to convert a list of scores to grades. Grade \"A\" accounts \n",
      "for scores no lower than 90; grade \"B\" accounts for scores between 80 to 89; \n",
      "and grade \"C\" accounts for scores between 70 and 79; scores lower than 70 \n",
      "are recorded as \"D\". For example, if the input is [85.5, 92, 45, 74, 79], \n",
      "then the output is [\"B\", \"A\", \"D\", \"C\", \"C\"]. \n"
     ]
    },
    {
     "data": {
      "text/html": [
       "<div>\n",
       "<style scoped>\n",
       "    .dataframe tbody tr th:only-of-type {\n",
       "        vertical-align: middle;\n",
       "    }\n",
       "\n",
       "    .dataframe tbody tr th {\n",
       "        vertical-align: top;\n",
       "    }\n",
       "\n",
       "    .dataframe thead th {\n",
       "        text-align: right;\n",
       "    }\n",
       "</style>\n",
       "<table border=\"1\" class=\"dataframe\">\n",
       "  <thead>\n",
       "    <tr style=\"text-align: right;\">\n",
       "      <th></th>\n",
       "      <th>Input1: list</th>\n",
       "      <th>Output: list</th>\n",
       "    </tr>\n",
       "  </thead>\n",
       "  <tbody>\n",
       "    <tr>\n",
       "      <th>Test 1:</th>\n",
       "      <td>[85.5, 92, 45, 74, 79]</td>\n",
       "      <td>['B', 'A', 'D', 'C', 'C']</td>\n",
       "    </tr>\n",
       "  </tbody>\n",
       "</table>\n",
       "</div>"
      ],
      "text/plain": [
       "                   Input1: list               Output: list\n",
       "Test 1:  [85.5, 92, 45, 74, 79]  ['B', 'A', 'D', 'C', 'C']"
      ]
     },
     "metadata": {},
     "output_type": "display_data"
    },
    {
     "data": {
      "text/plain": [
       "\n",
       "\u001b[1mGrade: Easy\u001b[0;0m "
      ]
     },
     "execution_count": 2,
     "metadata": {},
     "output_type": "execute_result"
    }
   ],
   "source": [
    "from exbook import book as eb\n",
    "\n",
    "eb[18]"
   ]
  },
  {
   "cell_type": "code",
   "execution_count": 3,
   "metadata": {},
   "outputs": [
    {
     "name": "stdout",
     "output_type": "stream",
     "text": [
      "You passed 3 of the 3 tests. \n",
      "The solution is correct\n"
     ]
    }
   ],
   "source": [
    "def grade(scores):\n",
    "    grades = []\n",
    "    for score in scores:\n",
    "        if score >= 90:\n",
    "            grades.append(\"A\")\n",
    "        elif score >= 80:\n",
    "            grades.append(\"B\")\n",
    "        elif score >= 70: \n",
    "            grades.append(\"C\")\n",
    "        else:\n",
    "            grades.append(\"D\")\n",
    "    return grades\n",
    "\n",
    "eb[18].check(grade)"
   ]
  }
 ],
 "metadata": {
  "kernelspec": {
   "display_name": "Python 3",
   "language": "python",
   "name": "python3"
  },
  "language_info": {
   "codemirror_mode": {
    "name": "ipython",
    "version": 3
   },
   "file_extension": ".py",
   "mimetype": "text/x-python",
   "name": "python",
   "nbconvert_exporter": "python",
   "pygments_lexer": "ipython3",
   "version": "3.8.5"
  }
 },
 "nbformat": 4,
 "nbformat_minor": 4
}
