{
 "cells": [
  {
   "cell_type": "code",
   "execution_count": 1,
   "metadata": {},
   "outputs": [
    {
     "name": "stdout",
     "output_type": "stream",
     "text": [
      "Create a function to grade bubble cards. The first input argument is list of \n",
      "answers to be graded, and the second input argument is a list of correct \n",
      "answers. The function compares these two lists, and returns the proportion \n",
      "of answers to be correct. For example, if the inputs are [\"A\", \"C\", \"B\", \"D\", \n",
      "\"A\", \"D\"] and [\"A\", \"B\", \"C\", \"D\", \"D\", \"D\"], then the output is 0.5 because \n",
      "half of the values are the same in these two lists.\n"
     ]
    },
    {
     "data": {
      "text/html": [
       "<div>\n",
       "<style scoped>\n",
       "    .dataframe tbody tr th:only-of-type {\n",
       "        vertical-align: middle;\n",
       "    }\n",
       "\n",
       "    .dataframe tbody tr th {\n",
       "        vertical-align: top;\n",
       "    }\n",
       "\n",
       "    .dataframe thead th {\n",
       "        text-align: right;\n",
       "    }\n",
       "</style>\n",
       "<table border=\"1\" class=\"dataframe\">\n",
       "  <thead>\n",
       "    <tr style=\"text-align: right;\">\n",
       "      <th></th>\n",
       "      <th>Input1: list</th>\n",
       "      <th>Input2: list</th>\n",
       "      <th>Output: float</th>\n",
       "    </tr>\n",
       "  </thead>\n",
       "  <tbody>\n",
       "    <tr>\n",
       "      <th>Test 1:</th>\n",
       "      <td>['A', 'C', 'B', 'D', 'A', 'D']</td>\n",
       "      <td>['A', 'B', 'C', 'D', 'D', 'D']</td>\n",
       "      <td>0.5</td>\n",
       "    </tr>\n",
       "    <tr>\n",
       "      <th>Test 2:</th>\n",
       "      <td>['A', 'B', 'C', 'D', 'D', 'D']</td>\n",
       "      <td>['A', 'B', 'C', 'D', 'D', 'D']</td>\n",
       "      <td>1.0</td>\n",
       "    </tr>\n",
       "  </tbody>\n",
       "</table>\n",
       "</div>"
      ],
      "text/plain": [
       "                           Input1: list                    Input2: list  \\\n",
       "Test 1:  ['A', 'C', 'B', 'D', 'A', 'D']  ['A', 'B', 'C', 'D', 'D', 'D']   \n",
       "Test 2:  ['A', 'B', 'C', 'D', 'D', 'D']  ['A', 'B', 'C', 'D', 'D', 'D']   \n",
       "\n",
       "        Output: float  \n",
       "Test 1:           0.5  \n",
       "Test 2:           1.0  "
      ]
     },
     "metadata": {},
     "output_type": "display_data"
    },
    {
     "data": {
      "text/plain": [
       "\n",
       "\u001b[1mBubble Card: Easy\u001b[0;0m "
      ]
     },
     "execution_count": 1,
     "metadata": {},
     "output_type": "execute_result"
    }
   ],
   "source": [
    "from exbook import book as eb\n",
    "\n",
    "eb[19]"
   ]
  },
  {
   "cell_type": "code",
   "execution_count": 2,
   "metadata": {},
   "outputs": [
    {
     "name": "stdout",
     "output_type": "stream",
     "text": [
      "You passed 4 of the 4 tests. \n",
      "The solution is correct\n"
     ]
    }
   ],
   "source": [
    "def bubble_card(ls1, ls2):\n",
    "    denom = len(ls1)\n",
    "    numer = 0.0\n",
    "    for first, second in zip(ls1, ls2):\n",
    "        if first == second:\n",
    "            numer+=1\n",
    "    return numer / denom\n",
    "\n",
    "eb[19].check(bubble_card)"
   ]
  }
 ],
 "metadata": {
  "kernelspec": {
   "display_name": "Python 3",
   "language": "python",
   "name": "python3"
  },
  "language_info": {
   "codemirror_mode": {
    "name": "ipython",
    "version": 3
   },
   "file_extension": ".py",
   "mimetype": "text/x-python",
   "name": "python",
   "nbconvert_exporter": "python",
   "pygments_lexer": "ipython3",
   "version": "3.8.5"
  }
 },
 "nbformat": 4,
 "nbformat_minor": 4
}
