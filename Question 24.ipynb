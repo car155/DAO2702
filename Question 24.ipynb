{
 "cells": [
  {
   "cell_type": "code",
   "execution_count": 1,
   "metadata": {},
   "outputs": [
    {
     "name": "stdout",
     "output_type": "stream",
     "text": [
      "Write a function with one argument n, to return the nth row of the Pascal's \n",
      "triangle. For example, if n=1, the output is [1]; if n=2, then the output is \n",
      "[1, 1]; if n=3, then the output is [1, 2, 1]; if n=4, then the output is [1, \n",
      "3, 3, 1]. \n"
     ]
    },
    {
     "data": {
      "text/html": [
       "<div>\n",
       "<style scoped>\n",
       "    .dataframe tbody tr th:only-of-type {\n",
       "        vertical-align: middle;\n",
       "    }\n",
       "\n",
       "    .dataframe tbody tr th {\n",
       "        vertical-align: top;\n",
       "    }\n",
       "\n",
       "    .dataframe thead th {\n",
       "        text-align: right;\n",
       "    }\n",
       "</style>\n",
       "<table border=\"1\" class=\"dataframe\">\n",
       "  <thead>\n",
       "    <tr style=\"text-align: right;\">\n",
       "      <th></th>\n",
       "      <th>Input1: int</th>\n",
       "      <th>Output: list</th>\n",
       "    </tr>\n",
       "  </thead>\n",
       "  <tbody>\n",
       "    <tr>\n",
       "      <th>Test 1:</th>\n",
       "      <td>3</td>\n",
       "      <td>[1, 2, 1]</td>\n",
       "    </tr>\n",
       "    <tr>\n",
       "      <th>Test 2:</th>\n",
       "      <td>5</td>\n",
       "      <td>[1, 4, 6, 4, 1]</td>\n",
       "    </tr>\n",
       "    <tr>\n",
       "      <th>Test 3:</th>\n",
       "      <td>10</td>\n",
       "      <td>[1, 9, 36, 84, 126, 126, 84, 36, 9, 1]</td>\n",
       "    </tr>\n",
       "  </tbody>\n",
       "</table>\n",
       "</div>"
      ],
      "text/plain": [
       "        Input1: int                            Output: list\n",
       "Test 1:           3                               [1, 2, 1]\n",
       "Test 2:           5                         [1, 4, 6, 4, 1]\n",
       "Test 3:          10  [1, 9, 36, 84, 126, 126, 84, 36, 9, 1]"
      ]
     },
     "metadata": {},
     "output_type": "display_data"
    },
    {
     "data": {
      "text/plain": [
       "\n",
       "\u001b[1mPascal Triangle: Hard\u001b[0;0m "
      ]
     },
     "execution_count": 1,
     "metadata": {},
     "output_type": "execute_result"
    }
   ],
   "source": [
    "from exbook import book as eb\n",
    "\n",
    "eb[23]"
   ]
  },
  {
   "cell_type": "code",
   "execution_count": 30,
   "metadata": {},
   "outputs": [
    {
     "name": "stdout",
     "output_type": "stream",
     "text": [
      "You passed 8 of the 8 tests. \n",
      "The solution is correct\n"
     ]
    }
   ],
   "source": [
    "def pascal(lvl):\n",
    "    result = [1]\n",
    "    for n in range(1, lvl):\n",
    "        nextLvl = []\n",
    "        for i in range(0, n + 1):\n",
    "            if i == 0 or i == n:\n",
    "                nextLvl.append(1)\n",
    "            else:\n",
    "                nextLvl.append(result[i - 1] + result[i])\n",
    "        result = nextLvl\n",
    "    return result\n",
    "\n",
    "eb[23].check(pascal)"
   ]
  }
 ],
 "metadata": {
  "kernelspec": {
   "display_name": "Python 3",
   "language": "python",
   "name": "python3"
  },
  "language_info": {
   "codemirror_mode": {
    "name": "ipython",
    "version": 3
   },
   "file_extension": ".py",
   "mimetype": "text/x-python",
   "name": "python",
   "nbconvert_exporter": "python",
   "pygments_lexer": "ipython3",
   "version": "3.8.5"
  }
 },
 "nbformat": 4,
 "nbformat_minor": 4
}
