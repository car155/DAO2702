{
 "cells": [
  {
   "cell_type": "markdown",
   "metadata": {},
   "source": [
    "# Question 12"
   ]
  },
  {
   "cell_type": "code",
   "execution_count": 1,
   "metadata": {},
   "outputs": [
    {
     "name": "stdout",
     "output_type": "stream",
     "text": [
      "Write a function to find the longest common prefix string amongst a list of \n",
      "strings. For example, the input argument is [\"flower\", \"flow\", \"flight\"], \n",
      "the output is \"fl\". If there is no common prefix among the input strings, \n",
      "the output is an empty string.\n"
     ]
    },
    {
     "data": {
      "text/html": [
       "<div>\n",
       "<style scoped>\n",
       "    .dataframe tbody tr th:only-of-type {\n",
       "        vertical-align: middle;\n",
       "    }\n",
       "\n",
       "    .dataframe tbody tr th {\n",
       "        vertical-align: top;\n",
       "    }\n",
       "\n",
       "    .dataframe thead th {\n",
       "        text-align: right;\n",
       "    }\n",
       "</style>\n",
       "<table border=\"1\" class=\"dataframe\">\n",
       "  <thead>\n",
       "    <tr style=\"text-align: right;\">\n",
       "      <th></th>\n",
       "      <th>Input1: list</th>\n",
       "      <th>Output: str</th>\n",
       "    </tr>\n",
       "  </thead>\n",
       "  <tbody>\n",
       "    <tr>\n",
       "      <th>Test 1:</th>\n",
       "      <td>['flower', 'flow', 'flight']</td>\n",
       "      <td>fl</td>\n",
       "    </tr>\n",
       "    <tr>\n",
       "      <th>Test 2:</th>\n",
       "      <td>['flower', 'flow', 'flight', 'inflow']</td>\n",
       "      <td></td>\n",
       "    </tr>\n",
       "  </tbody>\n",
       "</table>\n",
       "</div>"
      ],
      "text/plain": [
       "                                   Input1: list Output: str\n",
       "Test 1:            ['flower', 'flow', 'flight']          fl\n",
       "Test 2:  ['flower', 'flow', 'flight', 'inflow']            "
      ]
     },
     "metadata": {},
     "output_type": "display_data"
    },
    {
     "data": {
      "text/plain": [
       "\n",
       "\u001b[1mCommon Prefix: Hard\u001b[0;0m "
      ]
     },
     "execution_count": 1,
     "metadata": {},
     "output_type": "execute_result"
    }
   ],
   "source": [
    "from exbook import book as eb\n",
    "\n",
    "eb[11]"
   ]
  },
  {
   "cell_type": "code",
   "execution_count": 7,
   "metadata": {},
   "outputs": [
    {
     "name": "stdout",
     "output_type": "stream",
     "text": [
      "You passed 4 of the 4 tests. \n",
      "The solution is correct\n"
     ]
    }
   ],
   "source": [
    "def common_prefix(ls):\n",
    "    if len(ls) > 0:\n",
    "        prefix = [letter for letter in ls[0]]\n",
    "        \n",
    "        for word in ls:\n",
    "            end_index = 0;\n",
    "            for letter1, letter2 in zip(prefix, word):\n",
    "                if (letter1 != letter2):\n",
    "                    prefix = prefix[:end_index]\n",
    "                    break\n",
    "                else:\n",
    "                    end_index+=1\n",
    "                    \n",
    "        return \"\".join(prefix)\n",
    "    \n",
    "    else: \n",
    "        return \"\"\n",
    "    \n",
    "eb[11].check(common_prefix)"
   ]
  }
 ],
 "metadata": {
  "kernelspec": {
   "display_name": "Python 3",
   "language": "python",
   "name": "python3"
  },
  "language_info": {
   "codemirror_mode": {
    "name": "ipython",
    "version": 3
   },
   "file_extension": ".py",
   "mimetype": "text/x-python",
   "name": "python",
   "nbconvert_exporter": "python",
   "pygments_lexer": "ipython3",
   "version": "3.8.5"
  }
 },
 "nbformat": 4,
 "nbformat_minor": 4
}
