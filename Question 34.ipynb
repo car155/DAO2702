{
 "cells": [
  {
   "cell_type": "code",
   "execution_count": 1,
   "metadata": {},
   "outputs": [
    {
     "name": "stdout",
     "output_type": "stream",
     "text": [
      "An array is monotonic if it is either monotone increasing or monotone \n",
      "decreasing. A list a is monotone increasing if for all i <= j, a[i] <= a[j]. \n",
      "A list a is monotone decreasing if for all i <= j, a[i] >= a[j]. Write a \n",
      "function to return Trueif and only if the given input list is monotonic. For\n",
      "example, if the input is [1,2,2,3], then the output is True. If the input is \n",
      "[1,3,2], then the output is False.\n"
     ]
    },
    {
     "data": {
      "text/html": [
       "<div>\n",
       "<style scoped>\n",
       "    .dataframe tbody tr th:only-of-type {\n",
       "        vertical-align: middle;\n",
       "    }\n",
       "\n",
       "    .dataframe tbody tr th {\n",
       "        vertical-align: top;\n",
       "    }\n",
       "\n",
       "    .dataframe thead th {\n",
       "        text-align: right;\n",
       "    }\n",
       "</style>\n",
       "<table border=\"1\" class=\"dataframe\">\n",
       "  <thead>\n",
       "    <tr style=\"text-align: right;\">\n",
       "      <th></th>\n",
       "      <th>Input1: list</th>\n",
       "      <th>Output: bool</th>\n",
       "    </tr>\n",
       "  </thead>\n",
       "  <tbody>\n",
       "    <tr>\n",
       "      <th>Test 1:</th>\n",
       "      <td>[1, 2, 2, 3]</td>\n",
       "      <td>True</td>\n",
       "    </tr>\n",
       "    <tr>\n",
       "      <th>Test 2:</th>\n",
       "      <td>[6, 5, 4, 4]</td>\n",
       "      <td>True</td>\n",
       "    </tr>\n",
       "    <tr>\n",
       "      <th>Test 3:</th>\n",
       "      <td>[1, 3, 2]</td>\n",
       "      <td>False</td>\n",
       "    </tr>\n",
       "  </tbody>\n",
       "</table>\n",
       "</div>"
      ],
      "text/plain": [
       "         Input1: list Output: bool\n",
       "Test 1:  [1, 2, 2, 3]         True\n",
       "Test 2:  [6, 5, 4, 4]         True\n",
       "Test 3:     [1, 3, 2]        False"
      ]
     },
     "metadata": {},
     "output_type": "display_data"
    },
    {
     "data": {
      "text/plain": [
       "\n",
       "\u001b[1mMonotnoe Trend: Medium\u001b[0;0m "
      ]
     },
     "execution_count": 1,
     "metadata": {},
     "output_type": "execute_result"
    }
   ],
   "source": [
    "from exbook import book as eb\n",
    "\n",
    "eb[33]"
   ]
  },
  {
   "cell_type": "code",
   "execution_count": 5,
   "metadata": {},
   "outputs": [
    {
     "name": "stdout",
     "output_type": "stream",
     "text": [
      "You passed 8 of the 8 tests. \n",
      "The solution is correct\n"
     ]
    }
   ],
   "source": [
    "def trend(ls):\n",
    "    is_increasing = True\n",
    "    is_decreasing = True\n",
    "    \n",
    "    for i in range(1, len(ls)):\n",
    "        if ls[i-1] < ls[i]:\n",
    "            is_decreasing = False\n",
    "        elif ls[i-1] > ls[i]:\n",
    "            is_increasing = False\n",
    "    \n",
    "    return is_increasing or is_decreasing\n",
    "\n",
    "eb[33].check(trend)"
   ]
  }
 ],
 "metadata": {
  "kernelspec": {
   "display_name": "Python 3",
   "language": "python",
   "name": "python3"
  },
  "language_info": {
   "codemirror_mode": {
    "name": "ipython",
    "version": 3
   },
   "file_extension": ".py",
   "mimetype": "text/x-python",
   "name": "python",
   "nbconvert_exporter": "python",
   "pygments_lexer": "ipython3",
   "version": "3.8.5"
  }
 },
 "nbformat": 4,
 "nbformat_minor": 4
}
