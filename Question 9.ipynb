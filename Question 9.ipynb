{
 "cells": [
  {
   "cell_type": "markdown",
   "metadata": {},
   "source": [
    "# Question 9"
   ]
  },
  {
   "cell_type": "code",
   "execution_count": 1,
   "metadata": {},
   "outputs": [
    {
     "name": "stdout",
     "output_type": "stream",
     "text": [
      "Given two equal length lists of unique numbers, write a function to return \n",
      "the number of items in these two lists that have the same values but are at \n",
      "the different positions. For example, if these two lists are [1, 2, 3, 5] \n",
      "and [2, 1, 3, 4], then the output is 2 because the same values 1 and \n",
      "2 appear at the different positions.\n"
     ]
    },
    {
     "data": {
      "text/html": [
       "<div>\n",
       "<style scoped>\n",
       "    .dataframe tbody tr th:only-of-type {\n",
       "        vertical-align: middle;\n",
       "    }\n",
       "\n",
       "    .dataframe tbody tr th {\n",
       "        vertical-align: top;\n",
       "    }\n",
       "\n",
       "    .dataframe thead th {\n",
       "        text-align: right;\n",
       "    }\n",
       "</style>\n",
       "<table border=\"1\" class=\"dataframe\">\n",
       "  <thead>\n",
       "    <tr style=\"text-align: right;\">\n",
       "      <th></th>\n",
       "      <th>Input1: list</th>\n",
       "      <th>Input2: list</th>\n",
       "      <th>Output: int</th>\n",
       "    </tr>\n",
       "  </thead>\n",
       "  <tbody>\n",
       "    <tr>\n",
       "      <th>Test 1:</th>\n",
       "      <td>[1, 2, 3, 5]</td>\n",
       "      <td>[2, 1, 3, 4]</td>\n",
       "      <td>2</td>\n",
       "    </tr>\n",
       "    <tr>\n",
       "      <th>Test 2:</th>\n",
       "      <td>[1, 2, 3, 5]</td>\n",
       "      <td>[1, 2, 3, 4]</td>\n",
       "      <td>0</td>\n",
       "    </tr>\n",
       "  </tbody>\n",
       "</table>\n",
       "</div>"
      ],
      "text/plain": [
       "         Input1: list  Input2: list Output: int\n",
       "Test 1:  [1, 2, 3, 5]  [2, 1, 3, 4]           2\n",
       "Test 2:  [1, 2, 3, 5]  [1, 2, 3, 4]           0"
      ]
     },
     "metadata": {},
     "output_type": "display_data"
    },
    {
     "data": {
      "text/plain": [
       "\n",
       "\u001b[1mWrong Position: Easy\u001b[0;0m "
      ]
     },
     "execution_count": 1,
     "metadata": {},
     "output_type": "execute_result"
    }
   ],
   "source": [
    "from exbook import book as eb\n",
    "\n",
    "eb[8]"
   ]
  },
  {
   "cell_type": "code",
   "execution_count": 2,
   "metadata": {},
   "outputs": [
    {
     "name": "stdout",
     "output_type": "stream",
     "text": [
      "You passed 5 of the 5 tests. \n",
      "The solution is correct\n"
     ]
    }
   ],
   "source": [
    "def wrong_position(ls1, ls2):\n",
    "    count = 0\n",
    "    for a, b in zip(ls1, ls2):\n",
    "        if a in ls2 and a != b:\n",
    "            count+=1\n",
    "    return count\n",
    "\n",
    "eb[8].check(wrong_position)"
   ]
  }
 ],
 "metadata": {
  "kernelspec": {
   "display_name": "Python 3",
   "language": "python",
   "name": "python3"
  },
  "language_info": {
   "codemirror_mode": {
    "name": "ipython",
    "version": 3
   },
   "file_extension": ".py",
   "mimetype": "text/x-python",
   "name": "python",
   "nbconvert_exporter": "python",
   "pygments_lexer": "ipython3",
   "version": "3.8.5"
  }
 },
 "nbformat": 4,
 "nbformat_minor": 4
}
