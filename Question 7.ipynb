{
 "cells": [
  {
   "cell_type": "markdown",
   "metadata": {},
   "source": [
    "# Question 7"
   ]
  },
  {
   "cell_type": "code",
   "execution_count": 1,
   "metadata": {},
   "outputs": [
    {
     "name": "stdout",
     "output_type": "stream",
     "text": [
      "Given a list of numbers as the first input argument, write a function to \n",
      "remove all items in the list that have the same value as the second input \n",
      "argument. For example, if the first argument is [1, 3, 2, 2, 4, 2, 5] and \n",
      "the second argument is given as 2, then the output is [1, 3, 4, 5], with \n",
      "all 2s removed.\n"
     ]
    },
    {
     "data": {
      "text/html": [
       "<div>\n",
       "<style scoped>\n",
       "    .dataframe tbody tr th:only-of-type {\n",
       "        vertical-align: middle;\n",
       "    }\n",
       "\n",
       "    .dataframe tbody tr th {\n",
       "        vertical-align: top;\n",
       "    }\n",
       "\n",
       "    .dataframe thead th {\n",
       "        text-align: right;\n",
       "    }\n",
       "</style>\n",
       "<table border=\"1\" class=\"dataframe\">\n",
       "  <thead>\n",
       "    <tr style=\"text-align: right;\">\n",
       "      <th></th>\n",
       "      <th>Input1: list</th>\n",
       "      <th>Input2: int</th>\n",
       "      <th>Output: list</th>\n",
       "    </tr>\n",
       "  </thead>\n",
       "  <tbody>\n",
       "    <tr>\n",
       "      <th>Test 1:</th>\n",
       "      <td>[0, 1, 2, 3, 2, 5]</td>\n",
       "      <td>2</td>\n",
       "      <td>[0, 1, 3, 5]</td>\n",
       "    </tr>\n",
       "    <tr>\n",
       "      <th>Test 2:</th>\n",
       "      <td>[0, 1, 2, 3]</td>\n",
       "      <td>4</td>\n",
       "      <td>[0, 1, 2, 3]</td>\n",
       "    </tr>\n",
       "  </tbody>\n",
       "</table>\n",
       "</div>"
      ],
      "text/plain": [
       "               Input1: list Input2: int  Output: list\n",
       "Test 1:  [0, 1, 2, 3, 2, 5]           2  [0, 1, 3, 5]\n",
       "Test 2:        [0, 1, 2, 3]           4  [0, 1, 2, 3]"
      ]
     },
     "metadata": {},
     "output_type": "display_data"
    },
    {
     "data": {
      "text/plain": [
       "\n",
       "\u001b[1mRemove All: Easy\u001b[0;0m "
      ]
     },
     "execution_count": 1,
     "metadata": {},
     "output_type": "execute_result"
    }
   ],
   "source": [
    "from exbook import book as eb\n",
    "\n",
    "eb[6]"
   ]
  },
  {
   "cell_type": "code",
   "execution_count": 2,
   "metadata": {},
   "outputs": [
    {
     "name": "stdout",
     "output_type": "stream",
     "text": [
      "You passed 4 of the 4 tests. \n",
      "The solution is correct\n"
     ]
    }
   ],
   "source": [
    "def remove_all(ls, n):\n",
    "    return [num for num in ls if num != n]\n",
    "\n",
    "eb[6].check(remove_all)"
   ]
  }
 ],
 "metadata": {
  "kernelspec": {
   "display_name": "Python 3",
   "language": "python",
   "name": "python3"
  },
  "language_info": {
   "codemirror_mode": {
    "name": "ipython",
    "version": 3
   },
   "file_extension": ".py",
   "mimetype": "text/x-python",
   "name": "python",
   "nbconvert_exporter": "python",
   "pygments_lexer": "ipython3",
   "version": "3.8.5"
  }
 },
 "nbformat": 4,
 "nbformat_minor": 4
}
