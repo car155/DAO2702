{
 "cells": [
  {
   "cell_type": "code",
   "execution_count": 1,
   "metadata": {},
   "outputs": [
    {
     "name": "stdout",
     "output_type": "stream",
     "text": [
      "Create a function to present the unique values in a given list and the number \n",
      "of their appearances. The output of the function is a dictionary where the \n",
      "keys are the unique values, and the associated values are the number of their \n",
      "appearances. For example, if the inputs are [\"A\", \"C\", \"B\", \"D\", \"A\", \"D\"] \n",
      "then the output is {\"A\": 2, \"C\": 1, \"B\": 1, \"D\": 2}.\n"
     ]
    },
    {
     "data": {
      "text/html": [
       "<div>\n",
       "<style scoped>\n",
       "    .dataframe tbody tr th:only-of-type {\n",
       "        vertical-align: middle;\n",
       "    }\n",
       "\n",
       "    .dataframe tbody tr th {\n",
       "        vertical-align: top;\n",
       "    }\n",
       "\n",
       "    .dataframe thead th {\n",
       "        text-align: right;\n",
       "    }\n",
       "</style>\n",
       "<table border=\"1\" class=\"dataframe\">\n",
       "  <thead>\n",
       "    <tr style=\"text-align: right;\">\n",
       "      <th></th>\n",
       "      <th>Input1: list</th>\n",
       "      <th>Output: dict</th>\n",
       "    </tr>\n",
       "  </thead>\n",
       "  <tbody>\n",
       "    <tr>\n",
       "      <th>Test 1:</th>\n",
       "      <td>['A', 'C', 'B', 'D', 'A', 'D']</td>\n",
       "      <td>{'A': 2, 'C': 1, 'B': 1, 'D': 2}</td>\n",
       "    </tr>\n",
       "  </tbody>\n",
       "</table>\n",
       "</div>"
      ],
      "text/plain": [
       "                           Input1: list                      Output: dict\n",
       "Test 1:  ['A', 'C', 'B', 'D', 'A', 'D']  {'A': 2, 'C': 1, 'B': 1, 'D': 2}"
      ]
     },
     "metadata": {},
     "output_type": "display_data"
    },
    {
     "data": {
      "text/plain": [
       "\n",
       "\u001b[1mValue Counts: Medium\u001b[0;0m "
      ]
     },
     "execution_count": 1,
     "metadata": {},
     "output_type": "execute_result"
    }
   ],
   "source": [
    "from exbook import book as eb\n",
    "\n",
    "eb[21]"
   ]
  },
  {
   "cell_type": "code",
   "execution_count": 2,
   "metadata": {},
   "outputs": [
    {
     "name": "stdout",
     "output_type": "stream",
     "text": [
      "You passed 3 of the 3 tests. \n",
      "The solution is correct\n"
     ]
    }
   ],
   "source": [
    "def value_count(ls):\n",
    "    dict = {}\n",
    "    for value in ls:\n",
    "        if value in dict:\n",
    "            dict[value]+=1\n",
    "        else: \n",
    "            dict[value] = 1\n",
    "    return dict\n",
    "\n",
    "eb[21].check(value_count)"
   ]
  }
 ],
 "metadata": {
  "kernelspec": {
   "display_name": "Python 3",
   "language": "python",
   "name": "python3"
  },
  "language_info": {
   "codemirror_mode": {
    "name": "ipython",
    "version": 3
   },
   "file_extension": ".py",
   "mimetype": "text/x-python",
   "name": "python",
   "nbconvert_exporter": "python",
   "pygments_lexer": "ipython3",
   "version": "3.8.5"
  }
 },
 "nbformat": 4,
 "nbformat_minor": 4
}
