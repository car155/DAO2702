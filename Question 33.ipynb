{
 "cells": [
  {
   "cell_type": "code",
   "execution_count": 1,
   "metadata": {},
   "outputs": [
    {
     "name": "stdout",
     "output_type": "stream",
     "text": [
      "At a lemonade stand, each lemonade costs $5. Customers are standing in a queue\n",
      "to buy from you, and order one at a time. Each customer will only buy one \n",
      "lemonade and pay with either a $5, $10, or $20 bill, and these payments are \n",
      "kept in a listas the input argument. You must provide the correct change to \n",
      "each customer, so that the net transaction is that the customer pays $5. Note \n",
      "that you don't have any change in hand at first. Return True if and only if \n",
      "you can provide every customer with the correct change, otherwise False. For\n",
      "example, if the input is [5, 5, 5, 10, 20], then the output is Ture, because \n",
      "we collected three $5 bills to pay back the subsequent customers. If the input \n",
      "is [10, 10], then the output is False, because there is no way to pay back \n",
      "the customers. \n"
     ]
    },
    {
     "data": {
      "text/html": [
       "<div>\n",
       "<style scoped>\n",
       "    .dataframe tbody tr th:only-of-type {\n",
       "        vertical-align: middle;\n",
       "    }\n",
       "\n",
       "    .dataframe tbody tr th {\n",
       "        vertical-align: top;\n",
       "    }\n",
       "\n",
       "    .dataframe thead th {\n",
       "        text-align: right;\n",
       "    }\n",
       "</style>\n",
       "<table border=\"1\" class=\"dataframe\">\n",
       "  <thead>\n",
       "    <tr style=\"text-align: right;\">\n",
       "      <th></th>\n",
       "      <th>Input1: list</th>\n",
       "      <th>Output: bool</th>\n",
       "    </tr>\n",
       "  </thead>\n",
       "  <tbody>\n",
       "    <tr>\n",
       "      <th>Test 1:</th>\n",
       "      <td>[5, 5, 5, 10, 20]</td>\n",
       "      <td>True</td>\n",
       "    </tr>\n",
       "    <tr>\n",
       "      <th>Test 2:</th>\n",
       "      <td>[10, 10]</td>\n",
       "      <td>False</td>\n",
       "    </tr>\n",
       "    <tr>\n",
       "      <th>Test 3:</th>\n",
       "      <td>[5, 10, 20, 5, 5, 10]</td>\n",
       "      <td>False</td>\n",
       "    </tr>\n",
       "  </tbody>\n",
       "</table>\n",
       "</div>"
      ],
      "text/plain": [
       "                  Input1: list Output: bool\n",
       "Test 1:      [5, 5, 5, 10, 20]         True\n",
       "Test 2:               [10, 10]        False\n",
       "Test 3:  [5, 10, 20, 5, 5, 10]        False"
      ]
     },
     "metadata": {},
     "output_type": "display_data"
    },
    {
     "data": {
      "text/plain": [
       "\n",
       "\u001b[1mLemonade Stand: Hard\u001b[0;0m "
      ]
     },
     "execution_count": 1,
     "metadata": {},
     "output_type": "execute_result"
    }
   ],
   "source": [
    "from exbook import book as eb\n",
    "\n",
    "eb[32]"
   ]
  },
  {
   "cell_type": "code",
   "execution_count": 6,
   "metadata": {},
   "outputs": [
    {
     "name": "stdout",
     "output_type": "stream",
     "text": [
      "You passed 7 of the 7 tests. \n",
      "The solution is correct\n"
     ]
    }
   ],
   "source": [
    "def lemonade_stand(ls):\n",
    "    notes = {5: 0, 10: 0, 20: 0}\n",
    "    \n",
    "    for payment in ls:\n",
    "        notes[payment] += 1\n",
    "        if payment == 10:\n",
    "            if notes[5] == 0:\n",
    "                return False\n",
    "            else:\n",
    "                notes[5] -= 1\n",
    "        if payment == 20:\n",
    "            if notes[10] == 0:\n",
    "                if notes[5] >= 3:\n",
    "                    notes[5] -= 3\n",
    "                else:\n",
    "                    return False\n",
    "            elif notes[5] == 0:\n",
    "                return False\n",
    "            else:\n",
    "                notes[10] -= 1\n",
    "                notes[5] -= 1\n",
    "    \n",
    "    return True\n",
    "\n",
    "eb[32].check(lemonade_stand)"
   ]
  }
 ],
 "metadata": {
  "kernelspec": {
   "display_name": "Python 3",
   "language": "python",
   "name": "python3"
  },
  "language_info": {
   "codemirror_mode": {
    "name": "ipython",
    "version": 3
   },
   "file_extension": ".py",
   "mimetype": "text/x-python",
   "name": "python",
   "nbconvert_exporter": "python",
   "pygments_lexer": "ipython3",
   "version": "3.8.5"
  }
 },
 "nbformat": 4,
 "nbformat_minor": 4
}
