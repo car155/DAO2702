{
 "cells": [
  {
   "cell_type": "code",
   "execution_count": 2,
   "metadata": {},
   "outputs": [
    {
     "name": "stdout",
     "output_type": "stream",
     "text": [
      "Given a list of daily temperatures T, return a list such that, for each day \n",
      "in the input, tells you how many days you would have to wait until a warmer \n",
      "temperature. If there is no future day for which this is possible, put 0 \n",
      "instead. For example, given the list of temperatures T = [73, 74, 75, 71, \n",
      "69, 72, 76, 73], your output should be [1, 1, 4, 2, 1, 1, 0, 0].\n"
     ]
    },
    {
     "data": {
      "text/html": [
       "<div>\n",
       "<style scoped>\n",
       "    .dataframe tbody tr th:only-of-type {\n",
       "        vertical-align: middle;\n",
       "    }\n",
       "\n",
       "    .dataframe tbody tr th {\n",
       "        vertical-align: top;\n",
       "    }\n",
       "\n",
       "    .dataframe thead th {\n",
       "        text-align: right;\n",
       "    }\n",
       "</style>\n",
       "<table border=\"1\" class=\"dataframe\">\n",
       "  <thead>\n",
       "    <tr style=\"text-align: right;\">\n",
       "      <th></th>\n",
       "      <th>Input1: list</th>\n",
       "      <th>Output: list</th>\n",
       "    </tr>\n",
       "  </thead>\n",
       "  <tbody>\n",
       "    <tr>\n",
       "      <th>Test 1:</th>\n",
       "      <td>[73, 74, 75, 71, 69, 72, 76, 73]</td>\n",
       "      <td>[1, 1, 4, 2, 1, 1, 0, 0]</td>\n",
       "    </tr>\n",
       "  </tbody>\n",
       "</table>\n",
       "</div>"
      ],
      "text/plain": [
       "                             Input1: list              Output: list\n",
       "Test 1:  [73, 74, 75, 71, 69, 72, 76, 73]  [1, 1, 4, 2, 1, 1, 0, 0]"
      ]
     },
     "metadata": {},
     "output_type": "display_data"
    },
    {
     "data": {
      "text/plain": [
       "\n",
       "\u001b[1mWarmer Temperature: Medium\u001b[0;0m "
      ]
     },
     "execution_count": 2,
     "metadata": {},
     "output_type": "execute_result"
    }
   ],
   "source": [
    "from exbook import book as eb\n",
    "\n",
    "eb[35]"
   ]
  },
  {
   "cell_type": "code",
   "execution_count": 18,
   "metadata": {},
   "outputs": [
    {
     "name": "stdout",
     "output_type": "stream",
     "text": [
      "You passed 4 of the 4 tests. \n",
      "The solution is correct\n"
     ]
    }
   ],
   "source": [
    "def warmer_temp(ls):\n",
    "    result = []\n",
    "    for i in range(0, len(ls)):\n",
    "        for j in range(i, len(ls)):\n",
    "            if ls[i] < ls[j]:\n",
    "                result.append(j-i)\n",
    "                break\n",
    "            elif j == len(ls)-1:\n",
    "                result.append(0)\n",
    "        \n",
    "    return result\n",
    "\n",
    "eb[35].check(warmer_temp)"
   ]
  }
 ],
 "metadata": {
  "kernelspec": {
   "display_name": "Python 3",
   "language": "python",
   "name": "python3"
  },
  "language_info": {
   "codemirror_mode": {
    "name": "ipython",
    "version": 3
   },
   "file_extension": ".py",
   "mimetype": "text/x-python",
   "name": "python",
   "nbconvert_exporter": "python",
   "pygments_lexer": "ipython3",
   "version": "3.8.5"
  }
 },
 "nbformat": 4,
 "nbformat_minor": 4
}
