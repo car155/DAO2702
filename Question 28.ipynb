{
 "cells": [
  {
   "cell_type": "code",
   "execution_count": 1,
   "metadata": {},
   "outputs": [
    {
     "name": "stdout",
     "output_type": "stream",
     "text": [
      "Given two strings as the input arguments, write a function to return the \n",
      "longest substring shared by these two input strings. For example, if the \n",
      "inputs are \"cdbabcde\" and \"babcffg\", then the output is \"abc\"; if the \n",
      "inputs are \"This is an apple\" and \"Check the app store\", then the output \n",
      "is \"app\". \n"
     ]
    },
    {
     "data": {
      "text/html": [
       "<div>\n",
       "<style scoped>\n",
       "    .dataframe tbody tr th:only-of-type {\n",
       "        vertical-align: middle;\n",
       "    }\n",
       "\n",
       "    .dataframe tbody tr th {\n",
       "        vertical-align: top;\n",
       "    }\n",
       "\n",
       "    .dataframe thead th {\n",
       "        text-align: right;\n",
       "    }\n",
       "</style>\n",
       "<table border=\"1\" class=\"dataframe\">\n",
       "  <thead>\n",
       "    <tr style=\"text-align: right;\">\n",
       "      <th></th>\n",
       "      <th>Input1: str</th>\n",
       "      <th>Input2: str</th>\n",
       "      <th>Output: str</th>\n",
       "    </tr>\n",
       "  </thead>\n",
       "  <tbody>\n",
       "    <tr>\n",
       "      <th>Test 1:</th>\n",
       "      <td>cdeabcde</td>\n",
       "      <td>babcffg</td>\n",
       "      <td>abc</td>\n",
       "    </tr>\n",
       "    <tr>\n",
       "      <th>Test 2:</th>\n",
       "      <td>This is an apple</td>\n",
       "      <td>Check the app store</td>\n",
       "      <td>app</td>\n",
       "    </tr>\n",
       "  </tbody>\n",
       "</table>\n",
       "</div>"
      ],
      "text/plain": [
       "              Input1: str          Input2: str Output: str\n",
       "Test 1:          cdeabcde              babcffg         abc\n",
       "Test 2:  This is an apple  Check the app store         app"
      ]
     },
     "metadata": {},
     "output_type": "display_data"
    },
    {
     "data": {
      "text/plain": [
       "\n",
       "\u001b[1mLongest Substring: Hard\u001b[0;0m "
      ]
     },
     "execution_count": 1,
     "metadata": {},
     "output_type": "execute_result"
    }
   ],
   "source": [
    "from exbook import book as eb\n",
    "\n",
    "eb[27]"
   ]
  },
  {
   "cell_type": "code",
   "execution_count": 6,
   "metadata": {},
   "outputs": [
    {
     "name": "stdout",
     "output_type": "stream",
     "text": [
      "You passed 3 of the 3 tests. \n",
      "The solution is correct\n"
     ]
    }
   ],
   "source": [
    "def longest_substring(str1, str2):\n",
    "    length_of_substring = len(str1)\n",
    "    while (length_of_substring > 0):\n",
    "        start = 0\n",
    "        while(length_of_substring + start <= len(str1)):\n",
    "            substring = str1[start:length_of_substring + start]\n",
    "            if substring in str2:\n",
    "                return substring\n",
    "            start += 1\n",
    "        length_of_substring -= 1\n",
    "    return \"\"\n",
    "\n",
    "eb[27].check(longest_substring)"
   ]
  }
 ],
 "metadata": {
  "kernelspec": {
   "display_name": "Python 3",
   "language": "python",
   "name": "python3"
  },
  "language_info": {
   "codemirror_mode": {
    "name": "ipython",
    "version": 3
   },
   "file_extension": ".py",
   "mimetype": "text/x-python",
   "name": "python",
   "nbconvert_exporter": "python",
   "pygments_lexer": "ipython3",
   "version": "3.8.5"
  }
 },
 "nbformat": 4,
 "nbformat_minor": 4
}
