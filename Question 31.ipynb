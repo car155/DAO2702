{
 "cells": [
  {
   "cell_type": "code",
   "execution_count": 1,
   "metadata": {},
   "outputs": [
    {
     "name": "stdout",
     "output_type": "stream",
     "text": [
      "Given two lists of sorted numbers as the input arguments, write a function to \n",
      "merge these two lists as one list, with all numbers sorted. For example, if \n",
      "the inputs are [1, 2, 4] and [1, 3, 4], then the output is [1, 1, 2, 3, 4, 4]. \n",
      "As a practicce, do not use the built-in method sort.\n"
     ]
    },
    {
     "data": {
      "text/html": [
       "<div>\n",
       "<style scoped>\n",
       "    .dataframe tbody tr th:only-of-type {\n",
       "        vertical-align: middle;\n",
       "    }\n",
       "\n",
       "    .dataframe tbody tr th {\n",
       "        vertical-align: top;\n",
       "    }\n",
       "\n",
       "    .dataframe thead th {\n",
       "        text-align: right;\n",
       "    }\n",
       "</style>\n",
       "<table border=\"1\" class=\"dataframe\">\n",
       "  <thead>\n",
       "    <tr style=\"text-align: right;\">\n",
       "      <th></th>\n",
       "      <th>Input1: list</th>\n",
       "      <th>Input2: list</th>\n",
       "      <th>Output: list</th>\n",
       "    </tr>\n",
       "  </thead>\n",
       "  <tbody>\n",
       "    <tr>\n",
       "      <th>Test 1:</th>\n",
       "      <td>[1, 2, 4]</td>\n",
       "      <td>[1, 3, 4]</td>\n",
       "      <td>[1, 1, 2, 3, 4, 4]</td>\n",
       "    </tr>\n",
       "  </tbody>\n",
       "</table>\n",
       "</div>"
      ],
      "text/plain": [
       "        Input1: list Input2: list        Output: list\n",
       "Test 1:    [1, 2, 4]    [1, 3, 4]  [1, 1, 2, 3, 4, 4]"
      ]
     },
     "metadata": {},
     "output_type": "display_data"
    },
    {
     "data": {
      "text/plain": [
       "\n",
       "\u001b[1mMerge Lists: Easy\u001b[0;0m "
      ]
     },
     "execution_count": 1,
     "metadata": {},
     "output_type": "execute_result"
    }
   ],
   "source": [
    "from exbook import book as eb\n",
    "\n",
    "eb[30]"
   ]
  },
  {
   "cell_type": "code",
   "execution_count": 2,
   "metadata": {},
   "outputs": [
    {
     "name": "stdout",
     "output_type": "stream",
     "text": [
      "You passed 3 of the 3 tests. \n",
      "The solution is correct\n"
     ]
    }
   ],
   "source": [
    "def merge_lists(ls1, ls2):\n",
    "    result = []\n",
    "    index1 = 0\n",
    "    index2 = 0\n",
    "    \n",
    "    while index1 < len(ls1) or index2 < len(ls2):\n",
    "        if index1 >= len(ls1):\n",
    "            result.append(ls2[index2])\n",
    "            index2 += 1\n",
    "        elif index2 >= len(ls2):\n",
    "            result.append(ls1[index1])\n",
    "            index1 += 1\n",
    "        else:\n",
    "            if ls1[index1] <= ls2[index2]:\n",
    "                result.append(ls1[index1])\n",
    "                index1 += 1\n",
    "            else:\n",
    "                result.append(ls2[index2])\n",
    "                index2 += 1\n",
    "    return result\n",
    "\n",
    "eb[30].check(merge_lists)"
   ]
  }
 ],
 "metadata": {
  "kernelspec": {
   "display_name": "Python 3",
   "language": "python",
   "name": "python3"
  },
  "language_info": {
   "codemirror_mode": {
    "name": "ipython",
    "version": 3
   },
   "file_extension": ".py",
   "mimetype": "text/x-python",
   "name": "python",
   "nbconvert_exporter": "python",
   "pygments_lexer": "ipython3",
   "version": "3.8.5"
  }
 },
 "nbformat": 4,
 "nbformat_minor": 4
}
